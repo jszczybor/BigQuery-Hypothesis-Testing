{
 "cells": [
  {
   "cell_type": "markdown",
   "id": "10cb42e1",
   "metadata": {},
   "source": [
    "# BigQuery Data + Hypothesis Test\n",
    "\n",
    "In this project, I query data with SQL from the BigQuery API. The data comes from \"The Look Ecommerce\" dataset, which is synthetic ecommerce data that is updated regularly.\n",
    "\n",
    "The project will follow these steps:\n",
    "   - Connect to BigQuery API\n",
    "   - Query for the necessary data\n",
    "   - Summarize with boxplots and tables\n",
    "   - Hypothesis testing on results"
   ]
  },
  {
   "cell_type": "code",
   "execution_count": 1,
   "id": "dacb6c3e",
   "metadata": {},
   "outputs": [],
   "source": [
    "import statistics\n",
    "from scipy.stats import shapiro\n",
    "import scipy.stats as stats\n",
    "from scipy.stats import mannwhitneyu\n",
    "from scipy.stats import ttest_ind\n",
    "import seaborn as sns\n",
    "import numpy as np\n",
    "import pandas as pd"
   ]
  },
  {
   "cell_type": "markdown",
   "id": "ab85648f",
   "metadata": {},
   "source": [
    "## Connecting to BigQuery API"
   ]
  },
  {
   "cell_type": "code",
   "execution_count": 2,
   "id": "4daf2f03",
   "metadata": {},
   "outputs": [],
   "source": [
    "%load_ext google.cloud.bigquery"
   ]
  },
  {
   "cell_type": "code",
   "execution_count": 3,
   "id": "90aeebda",
   "metadata": {},
   "outputs": [],
   "source": [
    "from google.cloud import bigquery\n",
    "from google.oauth2 import service_account\n",
    "\n",
    "key_path = \"bigquery-example-KEY.json\"\n",
    "\n",
    "credentials = service_account.Credentials.from_service_account_file(\n",
    "    key_path, scopes=[\"https://www.googleapis.com/auth/cloud-platform\"],\n",
    ")\n",
    "\n",
    "client = bigquery.Client(credentials=credentials, project=credentials.project_id)"
   ]
  },
  {
   "cell_type": "markdown",
   "id": "069ed46b",
   "metadata": {},
   "source": [
    "## Shipping Time by Distribution Center\n",
    "\n",
    "I want to explore the shipping time of orders from different distribution centers. Do certain centers ship faster than others?\n",
    "\n",
    "There are a couple parameters to limit this question:\n",
    "  - only orders within the US\n",
    "  - only orders from the last month"
   ]
  },
  {
   "cell_type": "code",
   "execution_count": 4,
   "id": "561808e5",
   "metadata": {},
   "outputs": [],
   "source": [
    "sql = \"\"\"\n",
    "with shipping as (\n",
    "  select \n",
    "    user_id, \n",
    "    inventory_item_id, \n",
    "    timestamp_diff(delivered_at, shipped_at, HOUR) as shipping_time_hrs,\n",
    "    shipped_at,\n",
    "    product_distribution_center_id\n",
    "  from \n",
    "    bigquery-public-data.thelook_ecommerce.order_items\n",
    "    left join bigquery-public-data.thelook_ecommerce.inventory_items\n",
    "    on order_items.inventory_item_id = inventory_items.id\n",
    "  where\n",
    "    status = 'Complete' # only orders that have completed shipping\n",
    "    and timestamp_diff(current_timestamp(), shipped_at, DAY) <= 31 #only in the last month\n",
    "),\n",
    "\n",
    "customers as (\n",
    "  select \n",
    "    id, state, country\n",
    "  from\n",
    "    bigquery-public-data.thelook_ecommerce.users\n",
    "  where\n",
    "    country = \"United States\" # only customers in the US\n",
    "), \n",
    "\n",
    "distribution as (\n",
    "  select * from bigquery-public-data.thelook_ecommerce.distribution_centers\n",
    ")\n",
    "\n",
    "select \n",
    "  product_distribution_center_id as distribution_center_id,\n",
    "  name as distribution_center,\n",
    "  shipping_time_hrs\n",
    "from customers\n",
    "  inner join \n",
    "    (shipping join distribution on shipping.product_distribution_center_id = distribution.id)\n",
    "  on customers.id = shipping.user_id\n",
    ";\n",
    "\"\"\"\n",
    "shipping = client.query(sql).to_dataframe()"
   ]
  },
  {
   "cell_type": "code",
   "execution_count": 5,
   "id": "50bb2207",
   "metadata": {},
   "outputs": [
    {
     "data": {
      "text/html": [
       "<div>\n",
       "<style scoped>\n",
       "    .dataframe tbody tr th:only-of-type {\n",
       "        vertical-align: middle;\n",
       "    }\n",
       "\n",
       "    .dataframe tbody tr th {\n",
       "        vertical-align: top;\n",
       "    }\n",
       "\n",
       "    .dataframe thead th {\n",
       "        text-align: right;\n",
       "    }\n",
       "</style>\n",
       "<table border=\"1\" class=\"dataframe\">\n",
       "  <thead>\n",
       "    <tr style=\"text-align: right;\">\n",
       "      <th></th>\n",
       "      <th>distribution_center_id</th>\n",
       "      <th>distribution_center</th>\n",
       "      <th>shipping_time_hrs</th>\n",
       "    </tr>\n",
       "  </thead>\n",
       "  <tbody>\n",
       "    <tr>\n",
       "      <th>0</th>\n",
       "      <td>1</td>\n",
       "      <td>Memphis TN</td>\n",
       "      <td>27</td>\n",
       "    </tr>\n",
       "    <tr>\n",
       "      <th>1</th>\n",
       "      <td>3</td>\n",
       "      <td>Houston TX</td>\n",
       "      <td>28</td>\n",
       "    </tr>\n",
       "    <tr>\n",
       "      <th>2</th>\n",
       "      <td>8</td>\n",
       "      <td>Mobile AL</td>\n",
       "      <td>87</td>\n",
       "    </tr>\n",
       "    <tr>\n",
       "      <th>3</th>\n",
       "      <td>2</td>\n",
       "      <td>Chicago IL</td>\n",
       "      <td>33</td>\n",
       "    </tr>\n",
       "    <tr>\n",
       "      <th>4</th>\n",
       "      <td>2</td>\n",
       "      <td>Chicago IL</td>\n",
       "      <td>30</td>\n",
       "    </tr>\n",
       "    <tr>\n",
       "      <th>...</th>\n",
       "      <td>...</td>\n",
       "      <td>...</td>\n",
       "      <td>...</td>\n",
       "    </tr>\n",
       "    <tr>\n",
       "      <th>1348</th>\n",
       "      <td>3</td>\n",
       "      <td>Houston TX</td>\n",
       "      <td>116</td>\n",
       "    </tr>\n",
       "    <tr>\n",
       "      <th>1349</th>\n",
       "      <td>1</td>\n",
       "      <td>Memphis TN</td>\n",
       "      <td>88</td>\n",
       "    </tr>\n",
       "    <tr>\n",
       "      <th>1350</th>\n",
       "      <td>9</td>\n",
       "      <td>Charleston SC</td>\n",
       "      <td>83</td>\n",
       "    </tr>\n",
       "    <tr>\n",
       "      <th>1351</th>\n",
       "      <td>9</td>\n",
       "      <td>Charleston SC</td>\n",
       "      <td>75</td>\n",
       "    </tr>\n",
       "    <tr>\n",
       "      <th>1352</th>\n",
       "      <td>9</td>\n",
       "      <td>Charleston SC</td>\n",
       "      <td>64</td>\n",
       "    </tr>\n",
       "  </tbody>\n",
       "</table>\n",
       "<p>1353 rows × 3 columns</p>\n",
       "</div>"
      ],
      "text/plain": [
       "      distribution_center_id distribution_center  shipping_time_hrs\n",
       "0                          1          Memphis TN                 27\n",
       "1                          3          Houston TX                 28\n",
       "2                          8           Mobile AL                 87\n",
       "3                          2          Chicago IL                 33\n",
       "4                          2          Chicago IL                 30\n",
       "...                      ...                 ...                ...\n",
       "1348                       3          Houston TX                116\n",
       "1349                       1          Memphis TN                 88\n",
       "1350                       9       Charleston SC                 83\n",
       "1351                       9       Charleston SC                 75\n",
       "1352                       9       Charleston SC                 64\n",
       "\n",
       "[1353 rows x 3 columns]"
      ]
     },
     "execution_count": 5,
     "metadata": {},
     "output_type": "execute_result"
    }
   ],
   "source": [
    "shipping"
   ]
  },
  {
   "cell_type": "markdown",
   "id": "a1115d65",
   "metadata": {},
   "source": [
    "### Summarizing Data in Boxplots"
   ]
  },
  {
   "cell_type": "code",
   "execution_count": 6,
   "id": "e34d66d0",
   "metadata": {},
   "outputs": [],
   "source": [
    "shipping['distribution_center'] = shipping.distribution_center.replace(\n",
    "                                                        \"Port Authority of New York/New Jersey NY/NJ\",\n",
    "                                                        value = \"New York NY\")"
   ]
  },
  {
   "cell_type": "code",
   "execution_count": 7,
   "id": "b08d00c6",
   "metadata": {},
   "outputs": [
    {
     "data": {
      "image/png": "[encoded data removed]",
      "text/plain": [
       "<Figure size 1080x504 with 1 Axes>"
      ]
     },
     "metadata": {
      "needs_background": "light"
     },
     "output_type": "display_data"
    }
   ],
   "source": [
    "ax = shipping.boxplot(column='shipping_time_hrs', \n",
    "                      by=\"distribution_center\", \n",
    "                      figsize=(15,7), rot=45,\n",
    "                      patch_artist=True,\n",
    "                      boxprops=dict(facecolor='wheat', color='wheat'),\n",
    "                      medianprops=dict(color='k'))\n",
    "ax.set_ylabel(\"Hours\")\n",
    "ax.set_xlabel(\"Distribution Center\")\n",
    "ax.set_title(\"Shipping Time (in Hours) by Distribution Center\")\n",
    "ax.get_figure().suptitle('');"
   ]
  },
  {
   "cell_type": "markdown",
   "id": "299b6a5b",
   "metadata": {},
   "source": [
    "### Summarizing Data in a Table\n",
    "\n",
    "I can summarize this data in a table by two different methods to get the same results:\n",
    "   1. Manipulating the data in Pandas\n",
    "   2. Performing another SQL query to aggregate the results"
   ]
  },
  {
   "cell_type": "code",
   "execution_count": 8,
   "id": "08b80ece",
   "metadata": {},
   "outputs": [
    {
     "data": {
      "text/html": [
       "<div>\n",
       "<style scoped>\n",
       "    .dataframe tbody tr th:only-of-type {\n",
       "        vertical-align: middle;\n",
       "    }\n",
       "\n",
       "    .dataframe tbody tr th {\n",
       "        vertical-align: top;\n",
       "    }\n",
       "\n",
       "    .dataframe thead th {\n",
       "        text-align: right;\n",
       "    }\n",
       "</style>\n",
       "<table border=\"1\" class=\"dataframe\">\n",
       "  <thead>\n",
       "    <tr style=\"text-align: right;\">\n",
       "      <th></th>\n",
       "      <th>avg_shipping_hrs</th>\n",
       "      <th>num_orders</th>\n",
       "    </tr>\n",
       "    <tr>\n",
       "      <th>distribution_center</th>\n",
       "      <th></th>\n",
       "      <th></th>\n",
       "    </tr>\n",
       "  </thead>\n",
       "  <tbody>\n",
       "    <tr>\n",
       "      <th>Philadelphia PA</th>\n",
       "      <td>54.5</td>\n",
       "      <td>137</td>\n",
       "    </tr>\n",
       "    <tr>\n",
       "      <th>Savannah GA</th>\n",
       "      <td>57.3</td>\n",
       "      <td>93</td>\n",
       "    </tr>\n",
       "    <tr>\n",
       "      <th>Chicago IL</th>\n",
       "      <td>59.0</td>\n",
       "      <td>191</td>\n",
       "    </tr>\n",
       "    <tr>\n",
       "      <th>New York NY</th>\n",
       "      <td>60.0</td>\n",
       "      <td>128</td>\n",
       "    </tr>\n",
       "    <tr>\n",
       "      <th>Memphis TN</th>\n",
       "      <td>60.8</td>\n",
       "      <td>168</td>\n",
       "    </tr>\n",
       "    <tr>\n",
       "      <th>Houston TX</th>\n",
       "      <td>61.0</td>\n",
       "      <td>165</td>\n",
       "    </tr>\n",
       "    <tr>\n",
       "      <th>Los Angeles CA</th>\n",
       "      <td>62.3</td>\n",
       "      <td>127</td>\n",
       "    </tr>\n",
       "    <tr>\n",
       "      <th>New Orleans LA</th>\n",
       "      <td>63.6</td>\n",
       "      <td>88</td>\n",
       "    </tr>\n",
       "    <tr>\n",
       "      <th>Mobile AL</th>\n",
       "      <td>64.9</td>\n",
       "      <td>128</td>\n",
       "    </tr>\n",
       "    <tr>\n",
       "      <th>Charleston SC</th>\n",
       "      <td>65.1</td>\n",
       "      <td>128</td>\n",
       "    </tr>\n",
       "  </tbody>\n",
       "</table>\n",
       "</div>"
      ],
      "text/plain": [
       "                     avg_shipping_hrs  num_orders\n",
       "distribution_center                              \n",
       "Philadelphia PA                  54.5         137\n",
       "Savannah GA                      57.3          93\n",
       "Chicago IL                       59.0         191\n",
       "New York NY                      60.0         128\n",
       "Memphis TN                       60.8         168\n",
       "Houston TX                       61.0         165\n",
       "Los Angeles CA                   62.3         127\n",
       "New Orleans LA                   63.6          88\n",
       "Mobile AL                        64.9         128\n",
       "Charleston SC                    65.1         128"
      ]
     },
     "execution_count": 8,
     "metadata": {},
     "output_type": "execute_result"
    }
   ],
   "source": [
    "# 1. Manipulating the data in Pandas\n",
    "table = shipping.groupby(by=['distribution_center'])\\\n",
    "                        .agg(['mean', 'count'])['shipping_time_hrs']\\\n",
    "                        .sort_values(by=['mean'])\n",
    "table['mean'] = table['mean'].apply(lambda x: round(x, 1))\n",
    "table = table.rename(columns={\"mean\":\"avg_shipping_hrs\", \"count\":\"num_orders\"})\n",
    "table"
   ]
  },
  {
   "cell_type": "code",
   "execution_count": 9,
   "id": "6be9167e",
   "metadata": {},
   "outputs": [
    {
     "data": {
      "text/html": [
       "<div>\n",
       "<style scoped>\n",
       "    .dataframe tbody tr th:only-of-type {\n",
       "        vertical-align: middle;\n",
       "    }\n",
       "\n",
       "    .dataframe tbody tr th {\n",
       "        vertical-align: top;\n",
       "    }\n",
       "\n",
       "    .dataframe thead th {\n",
       "        text-align: right;\n",
       "    }\n",
       "</style>\n",
       "<table border=\"1\" class=\"dataframe\">\n",
       "  <thead>\n",
       "    <tr style=\"text-align: right;\">\n",
       "      <th></th>\n",
       "      <th>distribution_center</th>\n",
       "      <th>avg_shipping_hrs</th>\n",
       "      <th>num_orders</th>\n",
       "    </tr>\n",
       "  </thead>\n",
       "  <tbody>\n",
       "    <tr>\n",
       "      <th>0</th>\n",
       "      <td>Philadelphia PA</td>\n",
       "      <td>54.5</td>\n",
       "      <td>137</td>\n",
       "    </tr>\n",
       "    <tr>\n",
       "      <th>1</th>\n",
       "      <td>Savannah GA</td>\n",
       "      <td>57.3</td>\n",
       "      <td>93</td>\n",
       "    </tr>\n",
       "    <tr>\n",
       "      <th>2</th>\n",
       "      <td>Chicago IL</td>\n",
       "      <td>59.0</td>\n",
       "      <td>191</td>\n",
       "    </tr>\n",
       "    <tr>\n",
       "      <th>3</th>\n",
       "      <td>Port Authority of New York/New Jersey NY/NJ</td>\n",
       "      <td>60.0</td>\n",
       "      <td>128</td>\n",
       "    </tr>\n",
       "    <tr>\n",
       "      <th>4</th>\n",
       "      <td>Memphis TN</td>\n",
       "      <td>60.8</td>\n",
       "      <td>168</td>\n",
       "    </tr>\n",
       "    <tr>\n",
       "      <th>5</th>\n",
       "      <td>Houston TX</td>\n",
       "      <td>61.0</td>\n",
       "      <td>165</td>\n",
       "    </tr>\n",
       "    <tr>\n",
       "      <th>6</th>\n",
       "      <td>Los Angeles CA</td>\n",
       "      <td>62.3</td>\n",
       "      <td>127</td>\n",
       "    </tr>\n",
       "    <tr>\n",
       "      <th>7</th>\n",
       "      <td>New Orleans LA</td>\n",
       "      <td>63.6</td>\n",
       "      <td>88</td>\n",
       "    </tr>\n",
       "    <tr>\n",
       "      <th>8</th>\n",
       "      <td>Mobile AL</td>\n",
       "      <td>64.9</td>\n",
       "      <td>128</td>\n",
       "    </tr>\n",
       "    <tr>\n",
       "      <th>9</th>\n",
       "      <td>Charleston SC</td>\n",
       "      <td>65.1</td>\n",
       "      <td>128</td>\n",
       "    </tr>\n",
       "  </tbody>\n",
       "</table>\n",
       "</div>"
      ],
      "text/plain": [
       "                           distribution_center  avg_shipping_hrs  num_orders\n",
       "0                              Philadelphia PA              54.5         137\n",
       "1                                  Savannah GA              57.3          93\n",
       "2                                   Chicago IL              59.0         191\n",
       "3  Port Authority of New York/New Jersey NY/NJ              60.0         128\n",
       "4                                   Memphis TN              60.8         168\n",
       "5                                   Houston TX              61.0         165\n",
       "6                               Los Angeles CA              62.3         127\n",
       "7                               New Orleans LA              63.6          88\n",
       "8                                    Mobile AL              64.9         128\n",
       "9                                Charleston SC              65.1         128"
      ]
     },
     "execution_count": 9,
     "metadata": {},
     "output_type": "execute_result"
    }
   ],
   "source": [
    "# 2. Performing another SQL query to aggregate data\n",
    "sql = \"\"\"\n",
    "with shipping as (\n",
    "  select \n",
    "    user_id, \n",
    "    inventory_item_id, \n",
    "    timestamp_diff(delivered_at, shipped_at, HOUR) as shipping_time_hrs,\n",
    "    shipped_at,\n",
    "    product_distribution_center_id\n",
    "  from \n",
    "    bigquery-public-data.thelook_ecommerce.order_items\n",
    "    left join bigquery-public-data.thelook_ecommerce.inventory_items\n",
    "    on order_items.inventory_item_id = inventory_items.id\n",
    "  where\n",
    "    status = 'Complete' # only orders that have completed shipping\n",
    "    and timestamp_diff(current_timestamp(), shipped_at, DAY) <= 31 #only in the last month\n",
    "),\n",
    "\n",
    "customers as (\n",
    "  select \n",
    "    id, state, country\n",
    "  from\n",
    "    bigquery-public-data.thelook_ecommerce.users\n",
    "  where\n",
    "    country = \"United States\" # only customers in the US\n",
    "), \n",
    "\n",
    "distribution as (\n",
    "  select * from bigquery-public-data.thelook_ecommerce.distribution_centers\n",
    ")\n",
    "\n",
    "select \n",
    "  # product_distribution_center_id as distribution_center_id,\n",
    "  name as distribution_center,\n",
    "  round(avg(shipping_time_hrs),1) as avg_shipping_hrs,\n",
    "  count(*) as num_orders,\n",
    "from customers\n",
    "  inner join \n",
    "    (shipping join distribution on shipping.product_distribution_center_id = distribution.id)\n",
    "  on customers.id = shipping.user_id\n",
    "group by name\n",
    "order by avg_shipping_hrs\n",
    ";\n",
    "\"\"\"\n",
    "shipping_summary = client.query(sql).to_dataframe()\n",
    "shipping_summary"
   ]
  },
  {
   "cell_type": "markdown",
   "id": "3dce66f4",
   "metadata": {},
   "source": [
    "## Hypothesis Testing\n",
    "\n",
    "Is there a statistically significant difference between the fastest and slowest distribution centers?"
   ]
  },
  {
   "cell_type": "code",
   "execution_count": 10,
   "id": "be158d07",
   "metadata": {},
   "outputs": [
    {
     "name": "stdout",
     "output_type": "stream",
     "text": [
      "Fastest: Philadelphia PA\n",
      "Slowest: Charleston SC\n"
     ]
    }
   ],
   "source": [
    "fastest = table.index[0]\n",
    "slowest = table.index[-1]\n",
    "\n",
    "print(f'Fastest: {fastest}')\n",
    "print(f'Slowest: {slowest}')"
   ]
  },
  {
   "cell_type": "markdown",
   "id": "b350e3a0",
   "metadata": {},
   "source": [
    "Defining the question:\n",
    "   - Null hypothesis:\n",
    "      - **The shipping times at the two distribution centers are the same.**\n",
    "   - Alternative hypothesis: \n",
    "      - **The shipping times at the two distribution centers are not the same.** "
   ]
  },
  {
   "cell_type": "code",
   "execution_count": 11,
   "id": "61b54eb1",
   "metadata": {},
   "outputs": [],
   "source": [
    "# separate Pandas series \n",
    "fast = shipping[shipping.distribution_center==fastest].shipping_time_hrs.astype('int64')\n",
    "slow = shipping[shipping.distribution_center==slowest].shipping_time_hrs.astype('int64')"
   ]
  },
  {
   "cell_type": "code",
   "execution_count": 12,
   "id": "7783faef",
   "metadata": {},
   "outputs": [],
   "source": [
    "# \"long form\" dataset to be used for plotting\n",
    "compare = shipping[(shipping.distribution_center==fastest)|(shipping.distribution_center==slowest)]\n",
    "compare = compare.astype({'distribution_center_id':'int64', \n",
    "                            'distribution_center':'category', \n",
    "                            'shipping_time_hrs':'int64'})"
   ]
  },
  {
   "cell_type": "markdown",
   "id": "c5f5cb81",
   "metadata": {},
   "source": [
    "### Checking Normality\n",
    "\n",
    "I must evaluate if the data is normally distributed."
   ]
  },
  {
   "cell_type": "code",
   "execution_count": 13,
   "id": "b044cbfe",
   "metadata": {},
   "outputs": [
    {
     "data": {
      "image/png": "[encoded data removed]",
      "text/plain": [
       "<Figure size 1080x360 with 2 Axes>"
      ]
     },
     "metadata": {
      "needs_background": "light"
     },
     "output_type": "display_data"
    }
   ],
   "source": [
    "facet = sns.displot(data=compare, \n",
    "                    x=\"shipping_time_hrs\", \n",
    "                    col=\"distribution_center\", \n",
    "                    kde=True, \n",
    "                    aspect=1.5, \n",
    "                    stat='count',\n",
    "                    bins = range(0,121,10))\n",
    "facet.set_xlabels(\"Shipping Time (Hours)\")\n",
    "facet.set_titles(\"{col_name}\");"
   ]
  },
  {
   "cell_type": "code",
   "execution_count": 14,
   "id": "b5b6b119",
   "metadata": {},
   "outputs": [
    {
     "name": "stdout",
     "output_type": "stream",
     "text": [
      "Shapiro-Wilk Normality Test for Charleston SC Shipping Times:\n",
      "statistic: 0.956\n",
      "p-value:   0.00023\n",
      "\n",
      "Shapiro-Wilk Normality Test for Philadelphia PA Shipping Times:\n",
      "statistic: 0.945\n",
      "p-value:   0.00006\n"
     ]
    }
   ],
   "source": [
    "fast_normality = shapiro(fast)\n",
    "slow_normality = shapiro(slow)\n",
    "\n",
    "print(f\"Shapiro-Wilk Normality Test for {slowest} Shipping Times:\")\n",
    "print(f\"statistic: {fast_normality[0]:.3f}\")\n",
    "print(f\"p-value:   {fast_normality[1]:.5f}\")\n",
    "print()\n",
    "\n",
    "print(f\"Shapiro-Wilk Normality Test for {fastest} Shipping Times:\")\n",
    "print(f\"statistic: {slow_normality[0]:.3f}\")\n",
    "print(f\"p-value:   {slow_normality[1]:.5f}\")"
   ]
  },
  {
   "cell_type": "code",
   "execution_count": 15,
   "id": "f7a6c41b",
   "metadata": {},
   "outputs": [
    {
     "name": "stdout",
     "output_type": "stream",
     "text": [
      "\n",
      "Because the p-value for one or both of the distributions is less than the significance level of .05 \n",
      "in the Shapiro-Wilk Test, we can reject the null hypothesis that they are normally distributed.\n",
      "\n",
      "Therefore, I will use the Mann Whitney U test to test the hypothesis because:\n",
      "   - the data is not normally distributed\n",
      "   - the two sets are independent\n",
      "   \n"
     ]
    }
   ],
   "source": [
    "if fast_normality[1] > .05 and slow_normality[1] > .05:\n",
    "    print(\"\"\"\"\n",
    "Because the p-value for both of the distributions is greater than the significance level of .05\n",
    "in the Shapiro-Wilk Test, we do not reject the null hypothesis that they are normally distributed.\n",
    "\n",
    "Therefore, I will use the two sample t-test to test the hypothesis because:\n",
    "   - the data can be assumed to be normally distributed\n",
    "   - the two sets are independent\n",
    "   \"\"\")\n",
    "    test = ttest_ind\n",
    "    test_name = \"t-test\"\n",
    "else : \n",
    "    print(\"\"\"\n",
    "Because the p-value for one or both of the distributions is less than the significance level of .05 \n",
    "in the Shapiro-Wilk Test, we can reject the null hypothesis that they are normally distributed.\n",
    "\n",
    "Therefore, I will use the Mann Whitney U test to test the hypothesis because:\n",
    "   - the data is not normally distributed\n",
    "   - the two sets are independent\n",
    "   \"\"\")\n",
    "    test = mannwhitneyu\n",
    "    test_name = \"Mann Whitney U Test\""
   ]
  },
  {
   "cell_type": "markdown",
   "id": "5f0c8b10",
   "metadata": {},
   "source": [
    "### Testing"
   ]
  },
  {
   "cell_type": "code",
   "execution_count": 16,
   "id": "0a6f471e",
   "metadata": {},
   "outputs": [],
   "source": [
    "results = test(fast, slow)"
   ]
  },
  {
   "cell_type": "code",
   "execution_count": 17,
   "id": "fb13480c",
   "metadata": {},
   "outputs": [
    {
     "name": "stdout",
     "output_type": "stream",
     "text": [
      "Mann Whitney U Test for Shipping Times:\n",
      "statistic: 7213.0\n",
      "p-value:   0.01265\n",
      "\n"
     ]
    }
   ],
   "source": [
    "print(f\"{test_name} for Shipping Times:\")\n",
    "print(f\"statistic: {results[0]:.1f}\")\n",
    "print(f\"p-value:   {results[1]:.5f}\")\n",
    "print()"
   ]
  },
  {
   "cell_type": "markdown",
   "id": "3ffdfacc",
   "metadata": {},
   "source": [
    "### Conclusions"
   ]
  },
  {
   "cell_type": "code",
   "execution_count": 18,
   "id": "212eee2f",
   "metadata": {},
   "outputs": [
    {
     "name": "stdout",
     "output_type": "stream",
     "text": [
      "\n",
      "Because the p-value is < .05, the null hypothesis (that the shipping times from the two distribution centers \n",
      "are the same) is REJECTED at a 5% significance level.\n",
      "\n",
      "That is to say: \n",
      "There IS a statistically significant difference between the shipping times from the \n",
      "Philadelphia PA distribution center and the shipping times from the Charleston SC distribution center.\n",
      "    \n"
     ]
    }
   ],
   "source": [
    "if results[1]<.05:\n",
    "    print(f\"\"\"\n",
    "Because the p-value is < .05, the null hypothesis (that the shipping times from the two distribution centers \n",
    "are the same) is REJECTED at a 5% significance level.\n",
    "\n",
    "That is to say: \n",
    "There IS a statistically significant difference between the shipping times from the \n",
    "{fastest} distribution center and the shipping times from the {slowest} distribution center.\n",
    "    \"\"\")\n",
    "else: \n",
    "    print(f\"\"\"\"\n",
    "Because the p-value is >=.05, the null hypothesis (that the shipping times from the two distribution centers\n",
    "are the same) is NOT REJECTED at a 5% signifiance level.\n",
    "\n",
    "That is to say:\n",
    "There is not a statistically significant difference between the shipping times from the \n",
    "{fastest} distribution center and the shipping times from the {slowest} distribution center.\n",
    "    \"\"\")"
   ]
  }
 ],
 "metadata": {
  "kernelspec": {
   "display_name": "Python 3",
   "language": "python",
   "name": "python3"
  },
  "language_info": {
   "codemirror_mode": {
    "name": "ipython",
    "version": 3
   },
   "file_extension": ".py",
   "mimetype": "text/x-python",
   "name": "python",
   "nbconvert_exporter": "python",
   "pygments_lexer": "ipython3",
   "version": "3.8.12"
  }
 },
 "nbformat": 4,
 "nbformat_minor": 5
}
