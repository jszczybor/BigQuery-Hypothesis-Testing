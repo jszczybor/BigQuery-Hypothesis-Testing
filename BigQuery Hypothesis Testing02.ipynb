{
 "cells": [
  {
   "cell_type": "markdown",
   "id": "10cb42e1",
   "metadata": {},
   "source": [
    "# BigQuery Data + Hypothesis Test\n",
    "\n",
    "In this project, I query data with SQL from the BigQuery API. The data comes from \"The Look Ecommerce\" dataset, which is synthetic ecommerce data that is updated regularly.\n",
    "\n",
    "The project will follow these steps:\n",
    "   - Connect to BigQuery API\n",
    "   - Query for the necessary data\n",
    "   - Summarize with boxplots and tables\n",
    "   - Hypothesis testing on results"
   ]
  },
  {
   "cell_type": "code",
   "execution_count": 1,
   "id": "dacb6c3e",
   "metadata": {},
   "outputs": [],
   "source": [
    "import statistics\n",
    "from scipy.stats import shapiro\n",
    "import scipy.stats as stats\n",
    "from scipy.stats import mannwhitneyu\n",
    "import seaborn as sns\n",
    "import numpy as np\n",
    "import pandas as pd"
   ]
  },
  {
   "cell_type": "markdown",
   "id": "ab85648f",
   "metadata": {},
   "source": [
    "## Connecting to BigQuery API"
   ]
  },
  {
   "cell_type": "code",
   "execution_count": 2,
   "id": "4daf2f03",
   "metadata": {},
   "outputs": [],
   "source": [
    "%load_ext google.cloud.bigquery"
   ]
  },
  {
   "cell_type": "code",
   "execution_count": 3,
   "id": "90aeebda",
   "metadata": {},
   "outputs": [],
   "source": [
    "from google.cloud import bigquery\n",
    "from google.oauth2 import service_account\n",
    "\n",
    "key_path = \"bigquery-example-KEY.json\"\n",
    "\n",
    "credentials = service_account.Credentials.from_service_account_file(\n",
    "    key_path, scopes=[\"https://www.googleapis.com/auth/cloud-platform\"],\n",
    ")\n",
    "\n",
    "client = bigquery.Client(credentials=credentials, project=credentials.project_id)"
   ]
  },
  {
   "cell_type": "markdown",
   "id": "069ed46b",
   "metadata": {},
   "source": [
    "## Shipping Time by Distribution Center\n",
    "\n",
    "I want to explore the shipping time of orders from different distribution centers. Do certain centers ship faster than others?\n",
    "\n",
    "There are a couple parameters to limit this question:\n",
    "  - only orders within the US\n",
    "  - only orders from the last month"
   ]
  },
  {
   "cell_type": "code",
   "execution_count": 4,
   "id": "561808e5",
   "metadata": {},
   "outputs": [],
   "source": [
    "sql = \"\"\"\n",
    "with shipping as (\n",
    "  select \n",
    "    user_id, \n",
    "    inventory_item_id, \n",
    "    timestamp_diff(delivered_at, shipped_at, HOUR) as shipping_time_hrs,\n",
    "    shipped_at,\n",
    "    product_distribution_center_id\n",
    "  from \n",
    "    bigquery-public-data.thelook_ecommerce.order_items\n",
    "    left join bigquery-public-data.thelook_ecommerce.inventory_items\n",
    "    on order_items.inventory_item_id = inventory_items.id\n",
    "  where\n",
    "    status = 'Complete' # only orders that have completed shipping\n",
    "    and timestamp_diff(current_timestamp(), shipped_at, DAY) <= 31 #only in the last month\n",
    "),\n",
    "\n",
    "customers as (\n",
    "  select \n",
    "    id, state, country\n",
    "  from\n",
    "    bigquery-public-data.thelook_ecommerce.users\n",
    "  where\n",
    "    country = \"United States\" # only customers in the US\n",
    "), \n",
    "\n",
    "distribution as (\n",
    "  select * from bigquery-public-data.thelook_ecommerce.distribution_centers\n",
    ")\n",
    "\n",
    "select \n",
    "  product_distribution_center_id as distribution_center_id,\n",
    "  name as distribution_center,\n",
    "  shipping_time_hrs\n",
    "from customers\n",
    "  inner join \n",
    "    (shipping join distribution on shipping.product_distribution_center_id = distribution.id)\n",
    "  on customers.id = shipping.user_id\n",
    ";\n",
    "\"\"\"\n",
    "shipping = client.query(sql).to_dataframe()"
   ]
  },
  {
   "cell_type": "code",
   "execution_count": 5,
   "id": "50bb2207",
   "metadata": {},
   "outputs": [
    {
     "data": {
      "text/html": [
       "<div>\n",
       "<style scoped>\n",
       "    .dataframe tbody tr th:only-of-type {\n",
       "        vertical-align: middle;\n",
       "    }\n",
       "\n",
       "    .dataframe tbody tr th {\n",
       "        vertical-align: top;\n",
       "    }\n",
       "\n",
       "    .dataframe thead th {\n",
       "        text-align: right;\n",
       "    }\n",
       "</style>\n",
       "<table border=\"1\" class=\"dataframe\">\n",
       "  <thead>\n",
       "    <tr style=\"text-align: right;\">\n",
       "      <th></th>\n",
       "      <th>distribution_center_id</th>\n",
       "      <th>distribution_center</th>\n",
       "      <th>shipping_time_hrs</th>\n",
       "    </tr>\n",
       "  </thead>\n",
       "  <tbody>\n",
       "    <tr>\n",
       "      <th>0</th>\n",
       "      <td>8</td>\n",
       "      <td>Mobile AL</td>\n",
       "      <td>117</td>\n",
       "    </tr>\n",
       "    <tr>\n",
       "      <th>1</th>\n",
       "      <td>2</td>\n",
       "      <td>Chicago IL</td>\n",
       "      <td>94</td>\n",
       "    </tr>\n",
       "    <tr>\n",
       "      <th>2</th>\n",
       "      <td>2</td>\n",
       "      <td>Chicago IL</td>\n",
       "      <td>53</td>\n",
       "    </tr>\n",
       "    <tr>\n",
       "      <th>3</th>\n",
       "      <td>1</td>\n",
       "      <td>Memphis TN</td>\n",
       "      <td>29</td>\n",
       "    </tr>\n",
       "    <tr>\n",
       "      <th>4</th>\n",
       "      <td>10</td>\n",
       "      <td>Savannah GA</td>\n",
       "      <td>103</td>\n",
       "    </tr>\n",
       "    <tr>\n",
       "      <th>...</th>\n",
       "      <td>...</td>\n",
       "      <td>...</td>\n",
       "      <td>...</td>\n",
       "    </tr>\n",
       "    <tr>\n",
       "      <th>1383</th>\n",
       "      <td>8</td>\n",
       "      <td>Mobile AL</td>\n",
       "      <td>29</td>\n",
       "    </tr>\n",
       "    <tr>\n",
       "      <th>1384</th>\n",
       "      <td>1</td>\n",
       "      <td>Memphis TN</td>\n",
       "      <td>70</td>\n",
       "    </tr>\n",
       "    <tr>\n",
       "      <th>1385</th>\n",
       "      <td>9</td>\n",
       "      <td>Charleston SC</td>\n",
       "      <td>80</td>\n",
       "    </tr>\n",
       "    <tr>\n",
       "      <th>1386</th>\n",
       "      <td>9</td>\n",
       "      <td>Charleston SC</td>\n",
       "      <td>36</td>\n",
       "    </tr>\n",
       "    <tr>\n",
       "      <th>1387</th>\n",
       "      <td>9</td>\n",
       "      <td>Charleston SC</td>\n",
       "      <td>32</td>\n",
       "    </tr>\n",
       "  </tbody>\n",
       "</table>\n",
       "<p>1388 rows × 3 columns</p>\n",
       "</div>"
      ],
      "text/plain": [
       "      distribution_center_id distribution_center  shipping_time_hrs\n",
       "0                          8           Mobile AL                117\n",
       "1                          2          Chicago IL                 94\n",
       "2                          2          Chicago IL                 53\n",
       "3                          1          Memphis TN                 29\n",
       "4                         10         Savannah GA                103\n",
       "...                      ...                 ...                ...\n",
       "1383                       8           Mobile AL                 29\n",
       "1384                       1          Memphis TN                 70\n",
       "1385                       9       Charleston SC                 80\n",
       "1386                       9       Charleston SC                 36\n",
       "1387                       9       Charleston SC                 32\n",
       "\n",
       "[1388 rows x 3 columns]"
      ]
     },
     "execution_count": 5,
     "metadata": {},
     "output_type": "execute_result"
    }
   ],
   "source": [
    "shipping"
   ]
  },
  {
   "cell_type": "markdown",
   "id": "a1115d65",
   "metadata": {},
   "source": [
    "### Summarizing Data in Boxplots"
   ]
  },
  {
   "cell_type": "code",
   "execution_count": 6,
   "id": "e34d66d0",
   "metadata": {},
   "outputs": [],
   "source": [
    "shipping['distribution_center'] = shipping.distribution_center.replace(\n",
    "                                                        \"Port Authority of New York/New Jersey NY/NJ\",\n",
    "                                                        value = \"New York NY\")"
   ]
  },
  {
   "cell_type": "code",
   "execution_count": 7,
   "id": "b08d00c6",
   "metadata": {},
   "outputs": [
    {
     "data": {
      "image/png": "[encoded data removed]",
      "text/plain": [
       "<Figure size 1080x504 with 1 Axes>"
      ]
     },
     "metadata": {
      "needs_background": "light"
     },
     "output_type": "display_data"
    }
   ],
   "source": [
    "ax = shipping.boxplot(column='shipping_time_hrs', \n",
    "                      by=\"distribution_center\", \n",
    "                      figsize=(15,7), rot=45,\n",
    "                      patch_artist=True,\n",
    "                      boxprops=dict(facecolor='wheat', color='wheat'),\n",
    "                      medianprops=dict(color='k'))\n",
    "ax.set_ylabel(\"Hours\")\n",
    "ax.set_xlabel(\"Distribution Center\")\n",
    "ax.set_title(\"Shipping Time (in Hours) by Distribution Center\")\n",
    "ax.get_figure().suptitle('');"
   ]
  },
  {
   "cell_type": "markdown",
   "id": "299b6a5b",
   "metadata": {},
   "source": [
    "### Summarizing Data in a Table\n",
    "\n",
    "I can summarize this data in a table by two different methods to get the same results:\n",
    "   1. Manipulating the data in Pandas\n",
    "   2. Performing another SQL query to aggregate the results"
   ]
  },
  {
   "cell_type": "code",
   "execution_count": 8,
   "id": "08b80ece",
   "metadata": {},
   "outputs": [
    {
     "data": {
      "text/html": [
       "<div>\n",
       "<style scoped>\n",
       "    .dataframe tbody tr th:only-of-type {\n",
       "        vertical-align: middle;\n",
       "    }\n",
       "\n",
       "    .dataframe tbody tr th {\n",
       "        vertical-align: top;\n",
       "    }\n",
       "\n",
       "    .dataframe thead th {\n",
       "        text-align: right;\n",
       "    }\n",
       "</style>\n",
       "<table border=\"1\" class=\"dataframe\">\n",
       "  <thead>\n",
       "    <tr style=\"text-align: right;\">\n",
       "      <th></th>\n",
       "      <th>avg_shipping_hrs</th>\n",
       "      <th>num_orders</th>\n",
       "    </tr>\n",
       "    <tr>\n",
       "      <th>distribution_center</th>\n",
       "      <th></th>\n",
       "      <th></th>\n",
       "    </tr>\n",
       "  </thead>\n",
       "  <tbody>\n",
       "    <tr>\n",
       "      <th>Houston TX</th>\n",
       "      <td>56.8</td>\n",
       "      <td>185</td>\n",
       "    </tr>\n",
       "    <tr>\n",
       "      <th>Savannah GA</th>\n",
       "      <td>57.0</td>\n",
       "      <td>100</td>\n",
       "    </tr>\n",
       "    <tr>\n",
       "      <th>Los Angeles CA</th>\n",
       "      <td>57.7</td>\n",
       "      <td>137</td>\n",
       "    </tr>\n",
       "    <tr>\n",
       "      <th>New York NY</th>\n",
       "      <td>57.9</td>\n",
       "      <td>120</td>\n",
       "    </tr>\n",
       "    <tr>\n",
       "      <th>Charleston SC</th>\n",
       "      <td>58.0</td>\n",
       "      <td>116</td>\n",
       "    </tr>\n",
       "    <tr>\n",
       "      <th>Chicago IL</th>\n",
       "      <td>59.2</td>\n",
       "      <td>194</td>\n",
       "    </tr>\n",
       "    <tr>\n",
       "      <th>Memphis TN</th>\n",
       "      <td>59.8</td>\n",
       "      <td>174</td>\n",
       "    </tr>\n",
       "    <tr>\n",
       "      <th>Philadelphia PA</th>\n",
       "      <td>61.4</td>\n",
       "      <td>143</td>\n",
       "    </tr>\n",
       "    <tr>\n",
       "      <th>Mobile AL</th>\n",
       "      <td>62.6</td>\n",
       "      <td>115</td>\n",
       "    </tr>\n",
       "    <tr>\n",
       "      <th>New Orleans LA</th>\n",
       "      <td>65.4</td>\n",
       "      <td>104</td>\n",
       "    </tr>\n",
       "  </tbody>\n",
       "</table>\n",
       "</div>"
      ],
      "text/plain": [
       "                     avg_shipping_hrs  num_orders\n",
       "distribution_center                              \n",
       "Houston TX                       56.8         185\n",
       "Savannah GA                      57.0         100\n",
       "Los Angeles CA                   57.7         137\n",
       "New York NY                      57.9         120\n",
       "Charleston SC                    58.0         116\n",
       "Chicago IL                       59.2         194\n",
       "Memphis TN                       59.8         174\n",
       "Philadelphia PA                  61.4         143\n",
       "Mobile AL                        62.6         115\n",
       "New Orleans LA                   65.4         104"
      ]
     },
     "execution_count": 8,
     "metadata": {},
     "output_type": "execute_result"
    }
   ],
   "source": [
    "# 1. Manipulating the data in Pandas\n",
    "table = shipping.groupby(by=['distribution_center'])\\\n",
    "                        .agg(['mean', 'count'])['shipping_time_hrs']\\\n",
    "                        .sort_values(by=['mean'])\n",
    "table['mean'] = table['mean'].apply(lambda x: round(x, 1))\n",
    "table = table.rename(columns={\"mean\":\"avg_shipping_hrs\", \"count\":\"num_orders\"})\n",
    "table"
   ]
  },
  {
   "cell_type": "code",
   "execution_count": 9,
   "id": "6be9167e",
   "metadata": {},
   "outputs": [
    {
     "data": {
      "text/html": [
       "<div>\n",
       "<style scoped>\n",
       "    .dataframe tbody tr th:only-of-type {\n",
       "        vertical-align: middle;\n",
       "    }\n",
       "\n",
       "    .dataframe tbody tr th {\n",
       "        vertical-align: top;\n",
       "    }\n",
       "\n",
       "    .dataframe thead th {\n",
       "        text-align: right;\n",
       "    }\n",
       "</style>\n",
       "<table border=\"1\" class=\"dataframe\">\n",
       "  <thead>\n",
       "    <tr style=\"text-align: right;\">\n",
       "      <th></th>\n",
       "      <th>distribution_center</th>\n",
       "      <th>avg_shipping_hrs</th>\n",
       "      <th>num_orders</th>\n",
       "    </tr>\n",
       "  </thead>\n",
       "  <tbody>\n",
       "    <tr>\n",
       "      <th>0</th>\n",
       "      <td>Houston TX</td>\n",
       "      <td>56.8</td>\n",
       "      <td>185</td>\n",
       "    </tr>\n",
       "    <tr>\n",
       "      <th>1</th>\n",
       "      <td>Savannah GA</td>\n",
       "      <td>57.0</td>\n",
       "      <td>100</td>\n",
       "    </tr>\n",
       "    <tr>\n",
       "      <th>2</th>\n",
       "      <td>Los Angeles CA</td>\n",
       "      <td>57.7</td>\n",
       "      <td>137</td>\n",
       "    </tr>\n",
       "    <tr>\n",
       "      <th>3</th>\n",
       "      <td>Port Authority of New York/New Jersey NY/NJ</td>\n",
       "      <td>57.9</td>\n",
       "      <td>120</td>\n",
       "    </tr>\n",
       "    <tr>\n",
       "      <th>4</th>\n",
       "      <td>Charleston SC</td>\n",
       "      <td>58.0</td>\n",
       "      <td>116</td>\n",
       "    </tr>\n",
       "    <tr>\n",
       "      <th>5</th>\n",
       "      <td>Chicago IL</td>\n",
       "      <td>59.2</td>\n",
       "      <td>194</td>\n",
       "    </tr>\n",
       "    <tr>\n",
       "      <th>6</th>\n",
       "      <td>Memphis TN</td>\n",
       "      <td>59.8</td>\n",
       "      <td>174</td>\n",
       "    </tr>\n",
       "    <tr>\n",
       "      <th>7</th>\n",
       "      <td>Philadelphia PA</td>\n",
       "      <td>61.4</td>\n",
       "      <td>143</td>\n",
       "    </tr>\n",
       "    <tr>\n",
       "      <th>8</th>\n",
       "      <td>Mobile AL</td>\n",
       "      <td>62.6</td>\n",
       "      <td>115</td>\n",
       "    </tr>\n",
       "    <tr>\n",
       "      <th>9</th>\n",
       "      <td>New Orleans LA</td>\n",
       "      <td>65.4</td>\n",
       "      <td>104</td>\n",
       "    </tr>\n",
       "  </tbody>\n",
       "</table>\n",
       "</div>"
      ],
      "text/plain": [
       "                           distribution_center  avg_shipping_hrs  num_orders\n",
       "0                                   Houston TX              56.8         185\n",
       "1                                  Savannah GA              57.0         100\n",
       "2                               Los Angeles CA              57.7         137\n",
       "3  Port Authority of New York/New Jersey NY/NJ              57.9         120\n",
       "4                                Charleston SC              58.0         116\n",
       "5                                   Chicago IL              59.2         194\n",
       "6                                   Memphis TN              59.8         174\n",
       "7                              Philadelphia PA              61.4         143\n",
       "8                                    Mobile AL              62.6         115\n",
       "9                               New Orleans LA              65.4         104"
      ]
     },
     "execution_count": 9,
     "metadata": {},
     "output_type": "execute_result"
    }
   ],
   "source": [
    "# 2. Performing another SQL query to aggregate data\n",
    "sql = \"\"\"\n",
    "with shipping as (\n",
    "  select \n",
    "    user_id, \n",
    "    inventory_item_id, \n",
    "    timestamp_diff(delivered_at, shipped_at, HOUR) as shipping_time_hrs,\n",
    "    shipped_at,\n",
    "    product_distribution_center_id\n",
    "  from \n",
    "    bigquery-public-data.thelook_ecommerce.order_items\n",
    "    left join bigquery-public-data.thelook_ecommerce.inventory_items\n",
    "    on order_items.inventory_item_id = inventory_items.id\n",
    "  where\n",
    "    status = 'Complete' # only orders that have completed shipping\n",
    "    and timestamp_diff(current_timestamp(), shipped_at, DAY) <= 31 #only in the last month\n",
    "),\n",
    "\n",
    "customers as (\n",
    "  select \n",
    "    id, state, country\n",
    "  from\n",
    "    bigquery-public-data.thelook_ecommerce.users\n",
    "  where\n",
    "    country = \"United States\" # only customers in the US\n",
    "), \n",
    "\n",
    "distribution as (\n",
    "  select * from bigquery-public-data.thelook_ecommerce.distribution_centers\n",
    ")\n",
    "\n",
    "select \n",
    "  # product_distribution_center_id as distribution_center_id,\n",
    "  name as distribution_center,\n",
    "  round(avg(shipping_time_hrs),1) as avg_shipping_hrs,\n",
    "  count(*) as num_orders,\n",
    "from customers\n",
    "  inner join \n",
    "    (shipping join distribution on shipping.product_distribution_center_id = distribution.id)\n",
    "  on customers.id = shipping.user_id\n",
    "group by name\n",
    "order by avg_shipping_hrs\n",
    ";\n",
    "\"\"\"\n",
    "shipping_summary = client.query(sql).to_dataframe()\n",
    "shipping_summary"
   ]
  },
  {
   "cell_type": "markdown",
   "id": "3dce66f4",
   "metadata": {},
   "source": [
    "## Hypothesis Testing\n",
    "\n",
    "Is there a statistically significant difference between the fastest and slowest distribution centers?\n",
    "  - Fastest: **Houston TX**\n",
    "  - Slowest: **New Orleans LA**\n",
    "  \n",
    "Defining the question:\n",
    "   - Null hypothesis:\n",
    "      - **The shipping times at the two distribution centers are the same.**\n",
    "   - Alternative hypothesis: \n",
    "      - **The shipping times at the two distribution centers are not the same.** "
   ]
  },
  {
   "cell_type": "code",
   "execution_count": 10,
   "id": "61b54eb1",
   "metadata": {},
   "outputs": [],
   "source": [
    "# separate Pandas series \n",
    "norleans = shipping[shipping.distribution_center==\"New Orleans LA\"].shipping_time_hrs.astype('int64')\n",
    "houston = shipping[shipping.distribution_center==\"Houston TX\"].shipping_time_hrs.astype('int64')"
   ]
  },
  {
   "cell_type": "code",
   "execution_count": 11,
   "id": "7783faef",
   "metadata": {},
   "outputs": [],
   "source": [
    "# \"long form\" dataset to be used for plotting\n",
    "compare = shipping[(shipping.distribution_center==\"New Orleans LA\")|(shipping.distribution_center==\"Houston TX\")]\n",
    "compare = compare.astype({'distribution_center_id':'int64', \n",
    "                            'distribution_center':'category', \n",
    "                            'shipping_time_hrs':'int64'})"
   ]
  },
  {
   "cell_type": "markdown",
   "id": "c5f5cb81",
   "metadata": {},
   "source": [
    "### Checking Normality\n",
    "\n",
    "I must evaluate if the data is normally distributed."
   ]
  },
  {
   "cell_type": "code",
   "execution_count": 12,
   "id": "b044cbfe",
   "metadata": {},
   "outputs": [
    {
     "data": {
      "image/png": "[encoded data removed]",
      "text/plain": [
       "<Figure size 1080x360 with 2 Axes>"
      ]
     },
     "metadata": {
      "needs_background": "light"
     },
     "output_type": "display_data"
    }
   ],
   "source": [
    "facet = sns.displot(data=compare, \n",
    "                    x=\"shipping_time_hrs\", \n",
    "                    col=\"distribution_center\", \n",
    "                    kde=True, \n",
    "                    aspect=1.5, \n",
    "                    stat='count',\n",
    "                    bins = range(0,121,10))\n",
    "facet.set_xlabels(\"Shipping Time (Hours)\")\n",
    "facet.set_titles(\"{col_name}\");"
   ]
  },
  {
   "cell_type": "code",
   "execution_count": 13,
   "id": "b5b6b119",
   "metadata": {},
   "outputs": [
    {
     "name": "stdout",
     "output_type": "stream",
     "text": [
      "Shapiro-Wilk Normality Test for HOUSTON Shipping Times:\n",
      "statistic: 0.965\n",
      "p-value:   0.00015\n",
      "\n",
      "Shapiro-Wilk Normality Test for NEW ORLEANS Shipping Times:\n",
      "statistic: 0.943\n",
      "p-value:   0.00021\n"
     ]
    }
   ],
   "source": [
    "print(\"Shapiro-Wilk Normality Test for HOUSTON Shipping Times:\")\n",
    "print(f\"statistic: {shapiro(houston)[0]:.3f}\")\n",
    "print(f\"p-value:   {shapiro(houston)[1]:.5f}\")\n",
    "print()\n",
    "\n",
    "print(\"Shapiro-Wilk Normality Test for NEW ORLEANS Shipping Times:\")\n",
    "print(f\"statistic: {shapiro(norleans)[0]:.3f}\")\n",
    "print(f\"p-value:   {shapiro(norleans)[1]:.5f}\")"
   ]
  },
  {
   "cell_type": "markdown",
   "id": "89c84389",
   "metadata": {},
   "source": [
    "Visually, in the histograms with the kernel density estimations overlaid, the two distributions of shipping times do not appear to be normally distributed. \n",
    "\n",
    "This is supported by the results of the Shapiro-Wilk Tests. Because the p-value for each of the distributions is below the significance level of .05, we can reject the null hypothesis that they are normally distributed.\n",
    "\n",
    "Therefore, I will use the Mann Whitney U test to test the hypothesis because:\n",
    "   - the data is not normally distributed\n",
    "   - the two sets are independent"
   ]
  },
  {
   "cell_type": "markdown",
   "id": "5f0c8b10",
   "metadata": {},
   "source": [
    "### Testing"
   ]
  },
  {
   "cell_type": "code",
   "execution_count": 14,
   "id": "0a6f471e",
   "metadata": {},
   "outputs": [],
   "source": [
    "res = mannwhitneyu(houston, norleans)"
   ]
  },
  {
   "cell_type": "code",
   "execution_count": 15,
   "id": "fb13480c",
   "metadata": {},
   "outputs": [
    {
     "name": "stdout",
     "output_type": "stream",
     "text": [
      "Mann Whitney U Test for Shipping Times:\n",
      "statistic: 8278.5\n",
      "p-value:   0.04921\n",
      "\n"
     ]
    }
   ],
   "source": [
    "print(\"Mann Whitney U Test for Shipping Times:\")\n",
    "print(f\"statistic: {res[0]:.1f}\")\n",
    "print(f\"p-value:   {res[1]:.5f}\")\n",
    "print()"
   ]
  },
  {
   "cell_type": "markdown",
   "id": "3ffdfacc",
   "metadata": {},
   "source": [
    "### Conclusions\n",
    "\n",
    "Because the p-value is < .05, the null hypothesis (that the shipping times from the two distribution centers are the same) is **rejected** at a 5% significance level.\n",
    "\n",
    "That is to say: \n",
    "\n",
    "**There *is* a statistically significant difference between the shipping times** from the Houston distribution center and the shipping times from the New Orleans distribution center."
   ]
  }
 ],
 "metadata": {
  "kernelspec": {
   "display_name": "Python 3",
   "language": "python",
   "name": "python3"
  },
  "language_info": {
   "codemirror_mode": {
    "name": "ipython",
    "version": 3
   },
   "file_extension": ".py",
   "mimetype": "text/x-python",
   "name": "python",
   "nbconvert_exporter": "python",
   "pygments_lexer": "ipython3",
   "version": "3.8.12"
  }
 },
 "nbformat": 4,
 "nbformat_minor": 5
}
